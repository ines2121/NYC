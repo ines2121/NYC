{
 "cells": [
  {
   "cell_type": "code",
   "execution_count": 2,
   "id": "8da59e22-6a4b-4a29-afa5-bdf741a23103",
   "metadata": {},
   "outputs": [
    {
     "name": "stdout",
     "output_type": "stream",
     "text": [
      "Collecting holidays\n",
      "  Downloading holidays-0.70-py3-none-any.whl (903 kB)\n",
      "\u001b[K     |████████████████████████████████| 903 kB 3.2 MB/s eta 0:00:01\n",
      "\u001b[?25hRequirement already satisfied: python-dateutil in /usr/local/lib/python3.9/dist-packages (from holidays) (2.9.0.post0)\n",
      "Requirement already satisfied: six>=1.5 in /usr/local/lib/python3.9/dist-packages (from python-dateutil->holidays) (1.17.0)\n",
      "Installing collected packages: holidays\n",
      "Successfully installed holidays-0.70\n"
     ]
    }
   ],
   "source": [
    "!pip install holidays"
   ]
  },
  {
   "cell_type": "code",
   "execution_count": 3,
   "id": "5b0d7714-2c28-47db-b00f-141454a686f4",
   "metadata": {},
   "outputs": [],
   "source": [
    "from pyspark.sql import SparkSession\n",
    "from pyspark.sql.functions import (\n",
    "    col, udf, date_format, to_date, lit, when, count, sum as spark_sum, avg, collect_set, size, split\n",
    ")\n",
    "from pyspark.sql.types import StringType, BooleanType\n",
    "import holidays"
   ]
  },
  {
   "cell_type": "markdown",
   "id": "c366d065-550a-4ba3-87ba-4014d0e7295f",
   "metadata": {},
   "source": [
    "# 1. Processing data NYC"
   ]
  },
  {
   "cell_type": "code",
   "execution_count": 5,
   "id": "8c223285-aa60-49a0-bd2b-0e45de766b3e",
   "metadata": {},
   "outputs": [
    {
     "name": "stderr",
     "output_type": "stream",
     "text": [
      "                                                                                "
     ]
    },
    {
     "name": "stdout",
     "output_type": "stream",
     "text": [
      "root\n",
      " |-- VendorID: integer (nullable = true)\n",
      " |-- tpep_pickup_datetime: timestamp_ntz (nullable = true)\n",
      " |-- tpep_dropoff_datetime: timestamp_ntz (nullable = true)\n",
      " |-- passenger_count: long (nullable = true)\n",
      " |-- trip_distance: double (nullable = true)\n",
      " |-- RatecodeID: long (nullable = true)\n",
      " |-- store_and_fwd_flag: string (nullable = true)\n",
      " |-- PULocationID: integer (nullable = true)\n",
      " |-- DOLocationID: integer (nullable = true)\n",
      " |-- payment_type: long (nullable = true)\n",
      " |-- fare_amount: double (nullable = true)\n",
      " |-- extra: double (nullable = true)\n",
      " |-- mta_tax: double (nullable = true)\n",
      " |-- tip_amount: double (nullable = true)\n",
      " |-- tolls_amount: double (nullable = true)\n",
      " |-- improvement_surcharge: double (nullable = true)\n",
      " |-- total_amount: double (nullable = true)\n",
      " |-- congestion_surcharge: double (nullable = true)\n",
      " |-- Airport_fee: double (nullable = true)\n",
      "\n"
     ]
    }
   ],
   "source": [
    "from pyspark.sql import SparkSession\n",
    "from pyspark.sql.functions import col, mean\n",
    "\n",
    "# Initialiser une session Spark\n",
    "spark = SparkSession.builder \\\n",
    "    .appName(\"Taxi Data Analysis\") \\\n",
    "    .getOrCreate()\n",
    "\n",
    "# Lire le fichier Parquet\n",
    "data_yellow = spark.read.parquet(\"data/nyc_yellow_taxi_parquet/yellow_tripdata_2024-01.parquet\")\n",
    "\n",
    "# Afficher un aperçu des données\n",
    "data_yellow.printSchema()"
   ]
  },
  {
   "cell_type": "markdown",
   "id": "bfe31074-d3c1-435c-a1bf-3f28093658b6",
   "metadata": {},
   "source": [
    "### **Colonnes intéressantes dans `data_yellow`**\n",
    "\n",
    "| **Colonne**             | **Utilité**                                                                 |\n",
    "|--------------------------|-----------------------------------------------------------------------------|\n",
    "| `tpep_pickup_datetime`   | Date et heure de départ, utilisée pour l'analyse temporelle et les tendances. |\n",
    "| `PULocationID`           | Identifiant de la zone de départ (pour localiser l'emplacement sur la carte). |\n",
    "| `DOLocationID`           | Identifiant de la zone d'arrivée (facultatif pour cette application).       |\n",
    "| `trip_distance`          | Distance du trajet (utile pour prédire les tarifs et analyser les trajets). |\n",
    "| `fare_amount`            | Montant de la course (pour prédire les revenus).                           |\n",
    "| `tip_amount`             | Montant du pourboire (utile pour des métriques financières).               |\n",
    "| `total_amount`           | Montant total payé par l'utilisateur (tarif + taxes + pourboires).         |\n",
    "| `passenger_count`        | Nombre de passagers (utile pour des analyses liées à la demande).          |\n",
    "| `tpep_dropoff_datetime`  | Date et heure de fin de course (facultatif pour cette application).         |\n",
    "\n",
    "---\n",
    "\n",
    "### **Pourquoi ces colonnes ?**\n",
    "\n",
    "1. **Localisation et Carte Interactive :**\n",
    "   - Utilisez `PULocationID` pour identifier la position initiale de la course.\n",
    "   - Vous pouvez convertir ces identifiants en latitude/longitude avec une table de correspondance (disponible sur le site NYC TLC).\n",
    "\n",
    "2. **Analyse Temporelle :**\n",
    "   - `tpep_pickup_datetime` permet d'étudier les variations horaires, journalières ou mensuelles de la demande.\n",
    "\n",
    "3. **Analyse des Trajets et Revenus :**\n",
    "   - `trip_distance`, `fare_amount`, `tip_amount`, et `total_amount` fournissent des informations clés sur les revenus, les trajets et le comportement des utilisateurs.\n",
    "\n",
    "4. **Interaction Utilisateur :**\n",
    "   - `passenger_count` peut être utile pour prédire les tarifs moyens ou pour segmenter les trajets.\n"
   ]
  },
  {
   "cell_type": "code",
   "execution_count": 6,
   "id": "e22b5099-a8cf-4e38-8519-c2056017835c",
   "metadata": {},
   "outputs": [],
   "source": [
    "# Sélection des colonnes pertinentes\n",
    "selected_columns = [\n",
    "    \"tpep_pickup_datetime\",\n",
    "    \"PULocationID\",\n",
    "    \"trip_distance\",\n",
    "    \"fare_amount\",\n",
    "    \"tip_amount\",\n",
    "    \"total_amount\",\n",
    "    \"passenger_count\"\n",
    "]\n",
    "\n",
    "filtered_data = data_yellow.select([col(c) for c in selected_columns])"
   ]
  },
  {
   "cell_type": "code",
   "execution_count": 7,
   "id": "ed3670cd-e597-4490-a68d-55d349596386",
   "metadata": {},
   "outputs": [
    {
     "name": "stderr",
     "output_type": "stream",
     "text": [
      "                                                                                "
     ]
    },
    {
     "name": "stdout",
     "output_type": "stream",
     "text": [
      "+--------------------+------------+-------------+-----------+----------+------------+---------------+-----------+----+\n",
      "|tpep_pickup_datetime|PULocationID|trip_distance|fare_amount|tip_amount|total_amount|passenger_count|pickup_date|hour|\n",
      "+--------------------+------------+-------------+-----------+----------+------------+---------------+-----------+----+\n",
      "| 2024-01-01 00:57:55|         186|         1.72|       17.7|       0.0|        22.7|              1| 2024-01-01|   0|\n",
      "| 2024-01-01 00:03:00|         140|          1.8|       10.0|      3.75|       18.75|              1| 2024-01-01|   0|\n",
      "| 2024-01-01 00:17:06|         236|          4.7|       23.3|       3.0|        31.3|              1| 2024-01-01|   0|\n",
      "| 2024-01-01 00:36:38|          79|          1.4|       10.0|       2.0|        17.0|              1| 2024-01-01|   0|\n",
      "| 2024-01-01 00:46:51|         211|          0.8|        7.9|       3.2|        16.1|              1| 2024-01-01|   0|\n",
      "| 2024-01-01 00:54:08|         148|          4.7|       29.6|       6.9|        41.5|              1| 2024-01-01|   0|\n",
      "| 2024-01-01 00:49:44|         138|        10.82|       45.7|      10.0|       64.95|              2| 2024-01-01|   0|\n",
      "| 2024-01-01 00:30:40|         246|          3.0|       25.4|       0.0|        30.4|              0| 2024-01-01|   0|\n",
      "| 2024-01-01 00:26:01|         161|         5.44|       31.0|       0.0|        36.0|              1| 2024-01-01|   0|\n",
      "| 2024-01-01 00:28:08|         113|         0.04|        3.0|       0.0|         8.0|              1| 2024-01-01|   0|\n",
      "+--------------------+------------+-------------+-----------+----------+------------+---------------+-----------+----+\n",
      "only showing top 10 rows\n",
      "\n"
     ]
    }
   ],
   "source": [
    "# Prétraitement des dates\n",
    "yellow_taxi_df = filtered_data.withColumn(\"pickup_date\", filtered_data['tpep_pickup_datetime'].cast(\"date\"))\n",
    "yellow_taxi_df = yellow_taxi_df.withColumn(\"hour\", date_format(col(\"tpep_pickup_datetime\"), \"HH\").cast(\"int\"))\n",
    "yellow_taxi_df.show(10)"
   ]
  },
  {
   "cell_type": "code",
   "execution_count": 8,
   "id": "c4539cd9-64e1-4b99-9f47-c87e67ca6147",
   "metadata": {},
   "outputs": [
    {
     "name": "stderr",
     "output_type": "stream",
     "text": [
      "[Stage 3:=============================>                            (6 + 6) / 12]"
     ]
    },
    {
     "name": "stdout",
     "output_type": "stream",
     "text": [
      "Nombre total de lignes : 2964624\n"
     ]
    },
    {
     "name": "stderr",
     "output_type": "stream",
     "text": [
      "                                                                                "
     ]
    }
   ],
   "source": [
    "print(f\"Nombre total de lignes : {yellow_taxi_df.count()}\")"
   ]
  },
  {
   "cell_type": "code",
   "execution_count": 9,
   "id": "b539596a-b71a-4d5c-be99-c3dae78bbf56",
   "metadata": {},
   "outputs": [
    {
     "name": "stderr",
     "output_type": "stream",
     "text": [
      "[Stage 6:===============================================>         (10 + 2) / 12]"
     ]
    },
    {
     "name": "stdout",
     "output_type": "stream",
     "text": [
      "+--------------------+------------+-------------+-----------+----------+------------+---------------+-----------+----+\n",
      "|tpep_pickup_datetime|PULocationID|trip_distance|fare_amount|tip_amount|total_amount|passenger_count|pickup_date|hour|\n",
      "+--------------------+------------+-------------+-----------+----------+------------+---------------+-----------+----+\n",
      "|                   0|           0|            0|          0|         0|           0|         140162|          0|   0|\n",
      "+--------------------+------------+-------------+-----------+----------+------------+---------------+-----------+----+\n",
      "\n"
     ]
    },
    {
     "name": "stderr",
     "output_type": "stream",
     "text": [
      "                                                                                "
     ]
    }
   ],
   "source": [
    "#from pyspark.sql.functions import col, sum\n",
    "\n",
    "#result_df_new=result_df.select(\"pickup_date\", \"trip_distance\", \"TMAX\", \"PRCP\")\n",
    "\n",
    "yellow_taxi_df.select([spark_sum(col(c).isNull().cast(\"int\")).alias(c) for c in yellow_taxi_df.columns]).show()"
   ]
  },
  {
   "cell_type": "code",
   "execution_count": 10,
   "id": "92594b12-0d2b-4e4a-a6e4-7bdaaa5488e8",
   "metadata": {},
   "outputs": [
    {
     "name": "stderr",
     "output_type": "stream",
     "text": [
      "[Stage 9:===========================================>              (9 + 3) / 12]"
     ]
    },
    {
     "name": "stdout",
     "output_type": "stream",
     "text": [
      "+---------------+-------+\n",
      "|passenger_count|  count|\n",
      "+---------------+-------+\n",
      "|              0|  31465|\n",
      "|              7|      8|\n",
      "|              6|  22353|\n",
      "|              5|  33506|\n",
      "|              1|2188739|\n",
      "|              3|  91262|\n",
      "|              8|     51|\n",
      "|              2| 405103|\n",
      "|              4|  51974|\n",
      "|              9|      1|\n",
      "|           NULL| 140162|\n",
      "+---------------+-------+\n",
      "\n"
     ]
    },
    {
     "name": "stderr",
     "output_type": "stream",
     "text": [
      "                                                                                "
     ]
    }
   ],
   "source": [
    "# Compter le nombre de trajets pour chaque passenger_count\n",
    "passenger_count_distribution = yellow_taxi_df.groupBy(\"passenger_count\").count()\n",
    "\n",
    "# Afficher les résultats\n",
    "passenger_count_distribution.show()"
   ]
  },
  {
   "cell_type": "markdown",
   "id": "54492a8d-2395-4313-8358-5506df87e648",
   "metadata": {},
   "source": [
    "# 2 Processing weather data"
   ]
  },
  {
   "cell_type": "code",
   "execution_count": 12,
   "id": "43c03723-1390-4aef-b41c-1124017e9538",
   "metadata": {},
   "outputs": [
    {
     "name": "stderr",
     "output_type": "stream",
     "text": [
      "                                                                                "
     ]
    },
    {
     "name": "stdout",
     "output_type": "stream",
     "text": [
      "+----------+-----------+---------+---------------+----+---------+---------------+----+----+--------+--------------------+---------------+\n",
      "|      DATE|    STATION|LONGITUDE|PRCP_ATTRIBUTES|TMAX|ELEVATION|TMAX_ATTRIBUTES|TMIN|PRCP|LATITUDE|                NAME|TMIN_ATTRIBUTES|\n",
      "+----------+-----------+---------+---------------+----+---------+---------------+----+----+--------+--------------------+---------------+\n",
      "|2023-01-01|USW00094728|-73.96925|      T,,W,2400|12.8|     42.7|            ,,W| 9.4| 0.0|40.77898|NY CITY CENTRAL P...|            ,,W|\n",
      "|2023-01-02|USW00094728|-73.96925|       ,,W,2400|13.3|     42.7|            ,,W| 9.4| 0.5|40.77898|NY CITY CENTRAL P...|            ,,W|\n",
      "|2023-01-03|USW00094728|-73.96925|       ,,W,2400|14.4|     42.7|            ,,W| 8.3|10.7|40.77898|NY CITY CENTRAL P...|            ,,W|\n",
      "|2023-01-04|USW00094728|-73.96925|       ,,W,2400|18.9|     42.7|            ,,W| 9.4| 0.5|40.77898|NY CITY CENTRAL P...|            ,,W|\n",
      "|2023-01-05|USW00094728|-73.96925|       ,,W,2400|10.0|     42.7|            ,,W| 6.7| 0.3|40.77898|NY CITY CENTRAL P...|            ,,W|\n",
      "|2023-01-06|USW00094728|-73.96925|       ,,W,2400| 9.4|     42.7|            ,,W| 3.9| 6.9|40.77898|NY CITY CENTRAL P...|            ,,W|\n",
      "|2023-01-07|USW00094728|-73.96925|       ,,W,2400| 7.2|     42.7|            ,,W| 2.8| 0.0|40.77898|NY CITY CENTRAL P...|            ,,W|\n",
      "|2023-01-08|USW00094728|-73.96925|       ,,W,2400| 5.0|     42.7|            ,,W| 0.6| 0.0|40.77898|NY CITY CENTRAL P...|            ,,W|\n",
      "|2023-01-09|USW00094728|-73.96925|       ,,W,2400| 6.7|     42.7|            ,,W| 2.8| 0.3|40.77898|NY CITY CENTRAL P...|            ,,W|\n",
      "|2023-01-10|USW00094728|-73.96925|       ,,W,2400| 5.0|     42.7|            ,,W| 3.3| 0.0|40.77898|NY CITY CENTRAL P...|            ,,W|\n",
      "|2023-01-11|USW00094728|-73.96925|       ,,W,2400| 3.9|     42.7|            ,,W| 1.7| 0.0|40.77898|NY CITY CENTRAL P...|            ,,W|\n",
      "|2023-01-12|USW00094728|-73.96925|       ,,W,2400|12.8|     42.7|            ,,W| 2.8| 7.6|40.77898|NY CITY CENTRAL P...|            ,,W|\n",
      "|2023-01-13|USW00094728|-73.96925|       ,,W,2400|13.9|     42.7|            ,,W| 3.3| 2.3|40.77898|NY CITY CENTRAL P...|            ,,W|\n",
      "|2023-01-14|USW00094728|-73.96925|      T,,W,2400| 3.3|     42.7|            ,,W|-0.5| 0.0|40.77898|NY CITY CENTRAL P...|            ,,W|\n",
      "|2023-01-15|USW00094728|-73.96925|       ,,W,2400| 5.0|     42.7|            ,,W|-1.0| 0.0|40.77898|NY CITY CENTRAL P...|            ,,W|\n",
      "|2023-01-16|USW00094728|-73.96925|       ,,W,2400| 8.9|     42.7|            ,,W|-2.1| 0.0|40.77898|NY CITY CENTRAL P...|            ,,W|\n",
      "|2023-01-17|USW00094728|-73.96925|      T,,W,2400| 8.3|     42.7|            ,,W| 1.7| 0.0|40.77898|NY CITY CENTRAL P...|            ,,W|\n",
      "|2023-01-18|USW00094728|-73.96925|       ,,W,2400|11.7|     42.7|            ,,W| 5.6| 1.3|40.77898|NY CITY CENTRAL P...|            ,,W|\n",
      "|2023-01-19|USW00094728|-73.96925|       ,,W,2400| 6.7|     42.7|            ,,W| 4.4|22.1|40.77898|NY CITY CENTRAL P...|            ,,W|\n",
      "|2023-01-20|USW00094728|-73.96925|      T,,W,2400| 9.4|     42.7|            ,,W| 4.4| 0.0|40.77898|NY CITY CENTRAL P...|            ,,W|\n",
      "+----------+-----------+---------+---------------+----+---------+---------------+----+----+--------+--------------------+---------------+\n",
      "only showing top 20 rows\n",
      "\n",
      "root\n",
      " |-- DATE: date (nullable = true)\n",
      " |-- STATION: string (nullable = true)\n",
      " |-- LONGITUDE: double (nullable = true)\n",
      " |-- PRCP_ATTRIBUTES: string (nullable = true)\n",
      " |-- TMAX: double (nullable = true)\n",
      " |-- ELEVATION: double (nullable = true)\n",
      " |-- TMAX_ATTRIBUTES: string (nullable = true)\n",
      " |-- TMIN: double (nullable = true)\n",
      " |-- PRCP: double (nullable = true)\n",
      " |-- LATITUDE: double (nullable = true)\n",
      " |-- NAME: string (nullable = true)\n",
      " |-- TMIN_ATTRIBUTES: string (nullable = true)\n",
      "\n"
     ]
    }
   ],
   "source": [
    "from pyspark.sql import SparkSession\n",
    "\n",
    "# Initialiser une session Spark\n",
    "spark = SparkSession.builder \\\n",
    "    .appName(\"Taxi Data Analysis\") \\\n",
    "    .getOrCreate()\n",
    "\n",
    "# Lire les fichiers csv depuis le répertoire \"data\"\n",
    "meteo_df = spark.read.csv(\"data/nyc_weather_data/nyc_weather_2023_to_today.csv\", header=True, inferSchema=True)\n",
    "\n",
    "meteo_df.show()\n",
    "\n",
    "meteo_df.printSchema()"
   ]
  },
  {
   "cell_type": "code",
   "execution_count": 13,
   "id": "677a16d7-1f4a-44c6-9dd2-1fbe85526978",
   "metadata": {},
   "outputs": [
    {
     "name": "stdout",
     "output_type": "stream",
     "text": [
      "+----------+-----------+---------+---------------+----+---------+---------------+----+----+--------+--------------------+---------------+\n",
      "|      DATE|    STATION|LONGITUDE|PRCP_ATTRIBUTES|TMAX|ELEVATION|TMAX_ATTRIBUTES|TMIN|PRCP|LATITUDE|                NAME|TMIN_ATTRIBUTES|\n",
      "+----------+-----------+---------+---------------+----+---------+---------------+----+----+--------+--------------------+---------------+\n",
      "|2024-01-01|USW00094728|-73.96925|       ,,W,2400| 8.3|     42.7|            ,,W| 1.7| 0.8|40.77898|NY CITY CENTRAL P...|            ,,W|\n",
      "|2024-01-02|USW00094728|-73.96925|       ,,W,2400| 5.6|     42.7|            ,,W|-1.6| 0.0|40.77898|NY CITY CENTRAL P...|            ,,W|\n",
      "|2024-01-03|USW00094728|-73.96925|       ,,W,2400| 6.1|     42.7|            ,,W| 1.1| 0.0|40.77898|NY CITY CENTRAL P...|            ,,W|\n",
      "|2024-01-04|USW00094728|-73.96925|       ,,W,2400| 7.2|     42.7|            ,,W|-2.1| 0.0|40.77898|NY CITY CENTRAL P...|            ,,W|\n",
      "|2024-01-05|USW00094728|-73.96925|       ,,W,2400| 2.8|     42.7|            ,,W|-3.2| 0.0|40.77898|NY CITY CENTRAL P...|            ,,W|\n",
      "|2024-01-06|USW00094728|-73.96925|       ,,W,2400| 3.3|     42.7|            ,,W|-0.5|10.4|40.77898|NY CITY CENTRAL P...|            ,,W|\n",
      "|2024-01-07|USW00094728|-73.96925|       ,,W,2400| 3.3|     42.7|            ,,W| 1.1| 6.1|40.77898|NY CITY CENTRAL P...|            ,,W|\n",
      "|2024-01-08|USW00094728|-73.96925|       ,,W,2400| 7.2|     42.7|            ,,W| 2.2| 0.0|40.77898|NY CITY CENTRAL P...|            ,,W|\n",
      "|2024-01-09|USW00094728|-73.96925|       ,,W,2400|13.9|     42.7|            ,,W| 2.2|43.9|40.77898|NY CITY CENTRAL P...|            ,,W|\n",
      "|2024-01-10|USW00094728|-73.96925|       ,,W,2400|13.9|     42.7|            ,,W| 6.7| 5.6|40.77898|NY CITY CENTRAL P...|            ,,W|\n",
      "|2024-01-11|USW00094728|-73.96925|       ,,W,2400| 8.3|     42.7|            ,,W| 5.0| 0.0|40.77898|NY CITY CENTRAL P...|            ,,W|\n",
      "|2024-01-12|USW00094728|-73.96925|       ,,W,2400|10.0|     42.7|            ,,W| 4.4| 2.0|40.77898|NY CITY CENTRAL P...|            ,,W|\n",
      "|2024-01-13|USW00094728|-73.96925|       ,,W,2400|15.6|     42.7|            ,,W| 1.7|20.6|40.77898|NY CITY CENTRAL P...|            ,,W|\n",
      "|2024-01-14|USW00094728|-73.96925|      T,,W,2400| 6.7|     42.7|            ,,W|-3.2| 0.0|40.77898|NY CITY CENTRAL P...|            ,,W|\n",
      "|2024-01-15|USW00094728|-73.96925|       ,,W,2400|-1.6|     42.7|            ,,W|-4.9| 1.0|40.77898|NY CITY CENTRAL P...|            ,,W|\n",
      "|2024-01-16|USW00094728|-73.96925|       ,,W,2400| 0.0|     42.7|            ,,W|-5.5| 7.1|40.77898|NY CITY CENTRAL P...|            ,,W|\n",
      "|2024-01-17|USW00094728|-73.96925|       ,,W,2400|-4.3|     42.7|            ,,W|-8.2| 0.0|40.77898|NY CITY CENTRAL P...|            ,,W|\n",
      "|2024-01-18|USW00094728|-73.96925|      T,,W,2400| 1.1|     42.7|            ,,W|-5.5| 0.0|40.77898|NY CITY CENTRAL P...|            ,,W|\n",
      "|2024-01-19|USW00094728|-73.96925|       ,,W,2400| 0.0|     42.7|            ,,W|-3.2| 1.0|40.77898|NY CITY CENTRAL P...|            ,,W|\n",
      "|2024-01-20|USW00094728|-73.96925|       ,,W,2400|-3.2|     42.7|            ,,W|-7.7| 0.0|40.77898|NY CITY CENTRAL P...|            ,,W|\n",
      "+----------+-----------+---------+---------------+----+---------+---------------+----+----+--------+--------------------+---------------+\n",
      "only showing top 20 rows\n",
      "\n"
     ]
    }
   ],
   "source": [
    "from pyspark.sql.functions import col\n",
    "\n",
    "# Filtrer pour garder uniquement les lignes de janvier 2024\n",
    "meteo_df_01_2024 = meteo_df.filter((col(\"DATE\") >= \"2024-01-01\") & (col(\"DATE\") <= \"2024-01-31\"))\n",
    "\n",
    "# Afficher les résultats\n",
    "meteo_df_01_2024.show()"
   ]
  },
  {
   "cell_type": "code",
   "execution_count": 14,
   "id": "0abd91d2-67ad-468f-b6d7-066a07d308a5",
   "metadata": {},
   "outputs": [
    {
     "name": "stdout",
     "output_type": "stream",
     "text": [
      "+----------+----+----+----+\n",
      "|      date|TMAX|TMIN|PRCP|\n",
      "+----------+----+----+----+\n",
      "|2024-01-01| 8.3| 1.7| 0.8|\n",
      "|2024-01-02| 5.6|-1.6| 0.0|\n",
      "|2024-01-03| 6.1| 1.1| 0.0|\n",
      "|2024-01-04| 7.2|-2.1| 0.0|\n",
      "|2024-01-05| 2.8|-3.2| 0.0|\n",
      "|2024-01-06| 3.3|-0.5|10.4|\n",
      "|2024-01-07| 3.3| 1.1| 6.1|\n",
      "|2024-01-08| 7.2| 2.2| 0.0|\n",
      "|2024-01-09|13.9| 2.2|43.9|\n",
      "|2024-01-10|13.9| 6.7| 5.6|\n",
      "|2024-01-11| 8.3| 5.0| 0.0|\n",
      "|2024-01-12|10.0| 4.4| 2.0|\n",
      "|2024-01-13|15.6| 1.7|20.6|\n",
      "|2024-01-14| 6.7|-3.2| 0.0|\n",
      "|2024-01-15|-1.6|-4.9| 1.0|\n",
      "|2024-01-16| 0.0|-5.5| 7.1|\n",
      "|2024-01-17|-4.3|-8.2| 0.0|\n",
      "|2024-01-18| 1.1|-5.5| 0.0|\n",
      "|2024-01-19| 0.0|-3.2| 1.0|\n",
      "|2024-01-20|-3.2|-7.7| 0.0|\n",
      "+----------+----+----+----+\n",
      "only showing top 20 rows\n",
      "\n"
     ]
    }
   ],
   "source": [
    "weather_data = meteo_df_01_2024.withColumn(\"date\", to_date(col(\"DATE\")))\n",
    "\n",
    "# Garder uniquement les colonnes nécessaires\n",
    "weather_data = weather_data.select(\"date\", \"TMAX\", \"TMIN\", \"PRCP\")\n",
    "weather_data.show()"
   ]
  },
  {
   "cell_type": "code",
   "execution_count": 15,
   "id": "66ea939f-9266-43cb-b4ec-850661505d85",
   "metadata": {},
   "outputs": [
    {
     "name": "stdout",
     "output_type": "stream",
     "text": [
      "+----+----+----+----+\n",
      "|date|TMAX|TMIN|PRCP|\n",
      "+----+----+----+----+\n",
      "|   0|   0|   0|   0|\n",
      "+----+----+----+----+\n",
      "\n"
     ]
    }
   ],
   "source": [
    "from pyspark.sql.functions import col, sum\n",
    "\n",
    "weather_data_new=weather_data.select(\"date\", \"TMAX\", \"TMIN\", \"PRCP\")\n",
    "\n",
    "weather_data_new.select([sum(col(c).isNull().cast(\"int\")).alias(c) for c in weather_data_new.columns]).show()"
   ]
  },
  {
   "cell_type": "code",
   "execution_count": 16,
   "id": "a960b991-35f9-4360-b9fd-e068ecd261c7",
   "metadata": {},
   "outputs": [],
   "source": [
    "weather_data = weather_data.fillna({\"TMAX\": 0, \"TMIN\": 0, \"PRCP\": 0})"
   ]
  },
  {
   "cell_type": "code",
   "execution_count": 17,
   "id": "d9ea1563-1cc7-4718-82c2-89abe8444f3a",
   "metadata": {},
   "outputs": [
    {
     "name": "stdout",
     "output_type": "stream",
     "text": [
      "+----+----+----+----+\n",
      "|date|TMAX|TMIN|PRCP|\n",
      "+----+----+----+----+\n",
      "|   0|   0|   0|   0|\n",
      "+----+----+----+----+\n",
      "\n"
     ]
    }
   ],
   "source": [
    "from pyspark.sql.functions import col, sum\n",
    "\n",
    "weather_data_new=weather_data.select(\"date\", \"TMAX\", \"TMIN\", \"PRCP\")\n",
    "\n",
    "weather_data_new.select([sum(col(c).isNull().cast(\"int\")).alias(c) for c in weather_data_new.columns]).show()"
   ]
  },
  {
   "cell_type": "code",
   "execution_count": 18,
   "id": "52227b9f-8b31-4b98-97d5-668008cd3a3b",
   "metadata": {},
   "outputs": [
    {
     "name": "stdout",
     "output_type": "stream",
     "text": [
      "Nombre total de lignes : 93\n"
     ]
    }
   ],
   "source": [
    "print(f\"Nombre total de lignes : {weather_data_new.count()}\")"
   ]
  },
  {
   "cell_type": "code",
   "execution_count": 19,
   "id": "41bfe776-6e84-4afa-aa41-9e6644d3e8dc",
   "metadata": {},
   "outputs": [
    {
     "name": "stderr",
     "output_type": "stream",
     "text": [
      "[Stage 26:>                                                         (0 + 1) / 1]"
     ]
    },
    {
     "name": "stdout",
     "output_type": "stream",
     "text": [
      "+----------+----+----+----+--------+-------+\n",
      "|      date|TMAX|TMIN|PRCP|temp_cat|weather|\n",
      "+----------+----+----+----+--------+-------+\n",
      "|2024-01-01| 8.3| 1.7| 0.8|  modéré|  rainy|\n",
      "|2024-01-02| 5.6|-1.6| 0.0|   froid|  clear|\n",
      "|2024-01-03| 6.1| 1.1| 0.0|   froid|  clear|\n",
      "|2024-01-04| 7.2|-2.1| 0.0|  modéré|  clear|\n",
      "|2024-01-05| 2.8|-3.2| 0.0|   froid|  clear|\n",
      "|2024-01-06| 3.3|-0.5|10.4|   froid|  rainy|\n",
      "|2024-01-07| 3.3| 1.1| 6.1|   froid|  rainy|\n",
      "|2024-01-08| 7.2| 2.2| 0.0|  modéré|  clear|\n",
      "|2024-01-09|13.9| 2.2|43.9|  modéré|  rainy|\n",
      "|2024-01-10|13.9| 6.7| 5.6|  modéré|  rainy|\n",
      "|2024-01-11| 8.3| 5.0| 0.0|  modéré|  clear|\n",
      "|2024-01-12|10.0| 4.4| 2.0|  modéré|  rainy|\n",
      "|2024-01-13|15.6| 1.7|20.6|   chaud|  rainy|\n",
      "|2024-01-14| 6.7|-3.2| 0.0|   froid|  clear|\n",
      "|2024-01-15|-1.6|-4.9| 1.0|   froid|  rainy|\n",
      "|2024-01-16| 0.0|-5.5| 7.1|   froid|  rainy|\n",
      "|2024-01-17|-4.3|-8.2| 0.0|   froid|  clear|\n",
      "|2024-01-18| 1.1|-5.5| 0.0|   froid|  clear|\n",
      "|2024-01-19| 0.0|-3.2| 1.0|   froid|  rainy|\n",
      "|2024-01-20|-3.2|-7.7| 0.0|   froid|  clear|\n",
      "+----------+----+----+----+--------+-------+\n",
      "only showing top 20 rows\n",
      "\n"
     ]
    },
    {
     "name": "stderr",
     "output_type": "stream",
     "text": [
      "                                                                                "
     ]
    }
   ],
   "source": [
    "# Catégoriser la température\n",
    "def categorize_temp(tmax):\n",
    "    if tmax is None:\n",
    "        return \"unknown\"\n",
    "    elif tmax < 7:\n",
    "        return \"froid\"\n",
    "    elif 7 <= tmax <= 15:\n",
    "        return \"modéré\"\n",
    "    else:\n",
    "        return \"chaud\"\n",
    "\n",
    "categorize_temp_udf = udf(categorize_temp, StringType())\n",
    "weather_data_new = weather_data_new.withColumn(\"temp_cat\", categorize_temp_udf(col(\"TMAX\")))\n",
    "\n",
    "# Catégoriser la météo\n",
    "weather_data_new = weather_data_new.withColumn(\n",
    "    \"weather\", when(col(\"PRCP\") > 0, \"rainy\").otherwise(\"clear\")\n",
    ")\n",
    "weather_data_new.show()"
   ]
  },
  {
   "cell_type": "code",
   "execution_count": 20,
   "id": "c773439d-00b6-40e9-b17b-b7dec98f8b78",
   "metadata": {},
   "outputs": [
    {
     "name": "stdout",
     "output_type": "stream",
     "text": [
      "+----+----+----+----+--------+-------+\n",
      "|date|TMAX|TMIN|PRCP|temp_cat|weather|\n",
      "+----+----+----+----+--------+-------+\n",
      "|   0|   0|   0|   0|       0|      0|\n",
      "+----+----+----+----+--------+-------+\n",
      "\n"
     ]
    }
   ],
   "source": [
    "weather_data_new.select([sum(col(c).isNull().cast(\"int\")).alias(c) for c in weather_data_new.columns]).show()"
   ]
  },
  {
   "cell_type": "markdown",
   "id": "84281096-dc25-4d3f-9f74-64755a7d2e72",
   "metadata": {},
   "source": [
    "# 3 Joindre les informations"
   ]
  },
  {
   "cell_type": "code",
   "execution_count": 22,
   "id": "a608cd60-d275-4cdc-85f0-a81277211bc1",
   "metadata": {},
   "outputs": [
    {
     "name": "stdout",
     "output_type": "stream",
     "text": [
      "root\n",
      " |-- tpep_pickup_datetime: timestamp_ntz (nullable = true)\n",
      " |-- PULocationID: integer (nullable = true)\n",
      " |-- trip_distance: double (nullable = true)\n",
      " |-- fare_amount: double (nullable = true)\n",
      " |-- tip_amount: double (nullable = true)\n",
      " |-- total_amount: double (nullable = true)\n",
      " |-- passenger_count: long (nullable = true)\n",
      " |-- pickup_date: date (nullable = true)\n",
      " |-- hour: integer (nullable = true)\n",
      "\n",
      "root\n",
      " |-- date: date (nullable = true)\n",
      " |-- TMAX: double (nullable = false)\n",
      " |-- TMIN: double (nullable = false)\n",
      " |-- PRCP: double (nullable = false)\n",
      " |-- temp_cat: string (nullable = true)\n",
      " |-- weather: string (nullable = false)\n",
      "\n"
     ]
    }
   ],
   "source": [
    "yellow_taxi_df.printSchema()\n",
    "weather_data_new.printSchema()"
   ]
  },
  {
   "cell_type": "code",
   "execution_count": 23,
   "id": "41a69622-92f1-4322-8f1e-c67b425704d2",
   "metadata": {},
   "outputs": [
    {
     "name": "stdout",
     "output_type": "stream",
     "text": [
      "+-----------+--------------------+------------+-------------+-----------+----------+------------+---------------+----+----+----+----+--------+-------+\n",
      "|pickup_date|tpep_pickup_datetime|PULocationID|trip_distance|fare_amount|tip_amount|total_amount|passenger_count|hour|TMAX|TMIN|PRCP|temp_cat|weather|\n",
      "+-----------+--------------------+------------+-------------+-----------+----------+------------+---------------+----+----+----+----+--------+-------+\n",
      "| 2024-01-01| 2024-01-01 00:57:55|         186|         1.72|       17.7|       0.0|        22.7|              1|   0| 8.3| 1.7| 0.0|  modéré|  clear|\n",
      "| 2024-01-01| 2024-01-01 00:57:55|         186|         1.72|       17.7|       0.0|        22.7|              1|   0| 8.3| 2.2| 0.3|  modéré|  rainy|\n",
      "| 2024-01-01| 2024-01-01 00:57:55|         186|         1.72|       17.7|       0.0|        22.7|              1|   0| 8.3| 1.7| 0.8|  modéré|  rainy|\n",
      "| 2024-01-01| 2024-01-01 00:03:00|         140|          1.8|       10.0|      3.75|       18.75|              1|   0| 8.3| 1.7| 0.0|  modéré|  clear|\n",
      "| 2024-01-01| 2024-01-01 00:03:00|         140|          1.8|       10.0|      3.75|       18.75|              1|   0| 8.3| 2.2| 0.3|  modéré|  rainy|\n",
      "| 2024-01-01| 2024-01-01 00:03:00|         140|          1.8|       10.0|      3.75|       18.75|              1|   0| 8.3| 1.7| 0.8|  modéré|  rainy|\n",
      "| 2024-01-01| 2024-01-01 00:17:06|         236|          4.7|       23.3|       3.0|        31.3|              1|   0| 8.3| 1.7| 0.0|  modéré|  clear|\n",
      "| 2024-01-01| 2024-01-01 00:17:06|         236|          4.7|       23.3|       3.0|        31.3|              1|   0| 8.3| 2.2| 0.3|  modéré|  rainy|\n",
      "| 2024-01-01| 2024-01-01 00:17:06|         236|          4.7|       23.3|       3.0|        31.3|              1|   0| 8.3| 1.7| 0.8|  modéré|  rainy|\n",
      "| 2024-01-01| 2024-01-01 00:36:38|          79|          1.4|       10.0|       2.0|        17.0|              1|   0| 8.3| 1.7| 0.0|  modéré|  clear|\n",
      "| 2024-01-01| 2024-01-01 00:36:38|          79|          1.4|       10.0|       2.0|        17.0|              1|   0| 8.3| 2.2| 0.3|  modéré|  rainy|\n",
      "| 2024-01-01| 2024-01-01 00:36:38|          79|          1.4|       10.0|       2.0|        17.0|              1|   0| 8.3| 1.7| 0.8|  modéré|  rainy|\n",
      "| 2024-01-01| 2024-01-01 00:46:51|         211|          0.8|        7.9|       3.2|        16.1|              1|   0| 8.3| 1.7| 0.0|  modéré|  clear|\n",
      "| 2024-01-01| 2024-01-01 00:46:51|         211|          0.8|        7.9|       3.2|        16.1|              1|   0| 8.3| 2.2| 0.3|  modéré|  rainy|\n",
      "| 2024-01-01| 2024-01-01 00:46:51|         211|          0.8|        7.9|       3.2|        16.1|              1|   0| 8.3| 1.7| 0.8|  modéré|  rainy|\n",
      "| 2024-01-01| 2024-01-01 00:54:08|         148|          4.7|       29.6|       6.9|        41.5|              1|   0| 8.3| 1.7| 0.0|  modéré|  clear|\n",
      "| 2024-01-01| 2024-01-01 00:54:08|         148|          4.7|       29.6|       6.9|        41.5|              1|   0| 8.3| 2.2| 0.3|  modéré|  rainy|\n",
      "| 2024-01-01| 2024-01-01 00:54:08|         148|          4.7|       29.6|       6.9|        41.5|              1|   0| 8.3| 1.7| 0.8|  modéré|  rainy|\n",
      "| 2024-01-01| 2024-01-01 00:49:44|         138|        10.82|       45.7|      10.0|       64.95|              2|   0| 8.3| 1.7| 0.0|  modéré|  clear|\n",
      "| 2024-01-01| 2024-01-01 00:49:44|         138|        10.82|       45.7|      10.0|       64.95|              2|   0| 8.3| 2.2| 0.3|  modéré|  rainy|\n",
      "+-----------+--------------------+------------+-------------+-----------+----------+------------+---------------+----+----+----+----+--------+-------+\n",
      "only showing top 20 rows\n",
      "\n"
     ]
    }
   ],
   "source": [
    "# Renommer la colonne 'date' de weather_data_new pour qu'elle corresponde à 'pickup_date'\n",
    "weather_data_new = weather_data_new.withColumnRenamed(\"date\", \"pickup_date\")\n",
    "\n",
    "# Effectuer la jointure entre yellow_taxi_df et weather_data_new sur 'pickup_date'\n",
    "merged_df = yellow_taxi_df.join(weather_data_new, on=\"pickup_date\", how=\"left\")\n",
    "\n",
    "# Afficher le résultat\n",
    "merged_df.show()"
   ]
  },
  {
   "cell_type": "code",
   "execution_count": 24,
   "id": "4c04cf9c-dedc-48e0-9ad0-75b839723557",
   "metadata": {},
   "outputs": [
    {
     "name": "stdout",
     "output_type": "stream",
     "text": [
      "root\n",
      " |-- pickup_date: date (nullable = true)\n",
      " |-- tpep_pickup_datetime: timestamp_ntz (nullable = true)\n",
      " |-- PULocationID: integer (nullable = true)\n",
      " |-- trip_distance: double (nullable = true)\n",
      " |-- fare_amount: double (nullable = true)\n",
      " |-- tip_amount: double (nullable = true)\n",
      " |-- total_amount: double (nullable = true)\n",
      " |-- passenger_count: long (nullable = true)\n",
      " |-- hour: integer (nullable = true)\n",
      " |-- TMAX: double (nullable = true)\n",
      " |-- TMIN: double (nullable = true)\n",
      " |-- PRCP: double (nullable = true)\n",
      " |-- temp_cat: string (nullable = true)\n",
      " |-- weather: string (nullable = true)\n",
      "\n"
     ]
    }
   ],
   "source": [
    "merged_df.printSchema()"
   ]
  },
  {
   "cell_type": "markdown",
   "id": "a5031eb6-31e0-46a3-8956-2e20ae34b37e",
   "metadata": {},
   "source": [
    "# 4. Rajout du champs is_business_day sur les données yellow_taxi"
   ]
  },
  {
   "cell_type": "code",
   "execution_count": 25,
   "id": "f020c348-fac9-4488-9011-b3f206d5d1b6",
   "metadata": {},
   "outputs": [
    {
     "name": "stdout",
     "output_type": "stream",
     "text": [
      "root\n",
      " |-- pickup_date: date (nullable = true)\n",
      " |-- tpep_pickup_datetime: timestamp_ntz (nullable = true)\n",
      " |-- PULocationID: integer (nullable = true)\n",
      " |-- trip_distance: double (nullable = true)\n",
      " |-- fare_amount: double (nullable = true)\n",
      " |-- tip_amount: double (nullable = true)\n",
      " |-- total_amount: double (nullable = true)\n",
      " |-- passenger_count: long (nullable = true)\n",
      " |-- hour: integer (nullable = true)\n",
      " |-- TMAX: double (nullable = true)\n",
      " |-- TMIN: double (nullable = true)\n",
      " |-- PRCP: double (nullable = true)\n",
      " |-- temp_cat: string (nullable = true)\n",
      " |-- weather: string (nullable = true)\n",
      " |-- is_business_day: boolean (nullable = true)\n",
      "\n"
     ]
    }
   ],
   "source": [
    "import holidays\n",
    "import calendar\n",
    "from datetime import date, datetime\n",
    "\n",
    "# Given a date, return if its business day\n",
    "def isWorkDay(date):\n",
    "    is_work_day = False\n",
    "\n",
    "    if date.weekday() <= 4:\n",
    "        is_work_day = True\n",
    "\n",
    "    us_holidays = holidays.UnitedStates()\n",
    "\n",
    "    if date in us_holidays:\n",
    "        is_work_day = False\n",
    "\n",
    "    return is_work_day\n",
    "\n",
    "\n",
    "# Given a date and return a list containing all off-day in that month in datetime.date format.\n",
    "def offDayInMonth(_date):\n",
    "    month = _date.month\n",
    "    year = _date.year\n",
    "\n",
    "    if calendar.isleap(year):\n",
    "        last_day_list = [31,29,31,30,31,30,31,31,30,31,30,31]\n",
    "    else:\n",
    "        last_day_list = [31,28,31,30,31,30,31,31,30,31,30,31]\n",
    "\n",
    "    off_day_list = []\n",
    "\n",
    "    for day in range(1,last_day_list[month-1]+1):\n",
    "        one_date = date(year=year, month=month, day=day)\n",
    "        if not isWorkDay(one_date):\n",
    "            off_day_list.append(one_date)\n",
    "\n",
    "    return off_day_list\n",
    "\n",
    "# Déterminer si c'est un jour ouvré\n",
    "us_holidays = holidays.US()\n",
    "is_business_day_udf = udf(\n",
    "    lambda dt: dt.weekday() <= 4 and dt.date() not in us_holidays, BooleanType()\n",
    ")\n",
    "merged_df = merged_df.withColumn(\"is_business_day\", is_business_day_udf(col(\"tpep_pickup_datetime\")))\n",
    "merged_df.printSchema()"
   ]
  },
  {
   "cell_type": "code",
   "execution_count": 26,
   "id": "895e12ec-1e96-4556-a8e7-377da3db7482",
   "metadata": {},
   "outputs": [
    {
     "name": "stderr",
     "output_type": "stream",
     "text": [
      "[Stage 34:==============================================>         (10 + 2) / 12]"
     ]
    },
    {
     "name": "stdout",
     "output_type": "stream",
     "text": [
      "+-----------+--------------------+------------+-------------+-----------+----------+------------+---------------+----+----+----+----+--------+-------+---------------+\n",
      "|pickup_date|tpep_pickup_datetime|PULocationID|trip_distance|fare_amount|tip_amount|total_amount|passenger_count|hour|TMAX|TMIN|PRCP|temp_cat|weather|is_business_day|\n",
      "+-----------+--------------------+------------+-------------+-----------+----------+------------+---------------+----+----+----+----+--------+-------+---------------+\n",
      "|          0|                   0|           0|            0|          0|         0|           0|         420486|   0|  18|  18|  18|      18|     18|              0|\n",
      "+-----------+--------------------+------------+-------------+-----------+----------+------------+---------------+----+----+----+----+--------+-------+---------------+\n",
      "\n"
     ]
    },
    {
     "name": "stderr",
     "output_type": "stream",
     "text": [
      "                                                                                "
     ]
    }
   ],
   "source": [
    "merged_df.select([sum(col(c).isNull().cast(\"int\")).alias(c) for c in merged_df.columns]).show()"
   ]
  },
  {
   "cell_type": "code",
   "execution_count": null,
   "id": "0ae41f58-1a15-4b41-b202-b7b307272844",
   "metadata": {},
   "outputs": [],
   "source": []
  },
  {
   "cell_type": "code",
   "execution_count": 28,
   "id": "4db0c6e7-a689-4842-866b-491801d5bb01",
   "metadata": {},
   "outputs": [
    {
     "name": "stderr",
     "output_type": "stream",
     "text": [
      "                                                                                "
     ]
    }
   ],
   "source": [
    "merged_df.write.mode(\"overwrite\").option(\"header\", True).csv(\"data/final/merged_2024_01.csv\")"
   ]
  },
  {
   "cell_type": "code",
   "execution_count": 29,
   "id": "f93256c8-c1bb-4939-b7d3-5abe6677a67f",
   "metadata": {},
   "outputs": [
    {
     "name": "stderr",
     "output_type": "stream",
     "text": [
      "[Stage 40:==========================================>              (9 + 3) / 12]"
     ]
    },
    {
     "name": "stdout",
     "output_type": "stream",
     "text": [
      "Nombre de lignes : 8893836\n",
      "Nombre de colonnes : 15\n"
     ]
    },
    {
     "name": "stderr",
     "output_type": "stream",
     "text": [
      "                                                                                "
     ]
    }
   ],
   "source": [
    "print(f\"Nombre de lignes : {merged_df.count()}\")\n",
    "print(f\"Nombre de colonnes : {len(merged_df.columns)}\")"
   ]
  },
  {
   "cell_type": "code",
   "execution_count": 30,
   "id": "3fd273db-654a-4f78-8d96-26047c33fc7c",
   "metadata": {},
   "outputs": [
    {
     "name": "stderr",
     "output_type": "stream",
     "text": [
      "                                                                                "
     ]
    }
   ],
   "source": [
    "merged_df.write.mode(\"overwrite\").parquet(\"data/final/merged_2024_01.parquet\")"
   ]
  },
  {
   "cell_type": "code",
   "execution_count": 37,
   "id": "09bfc253-0f9b-41a9-b7aa-f90f2c7df0d7",
   "metadata": {},
   "outputs": [
    {
     "name": "stderr",
     "output_type": "stream",
     "text": [
      "                                                                                "
     ]
    }
   ],
   "source": [
    "merged_df.coalesce(1).write.csv(\"data/final/merged_2024_01.csv\", header=True, mode=\"overwrite\")"
   ]
  },
  {
   "cell_type": "code",
   "execution_count": 34,
   "id": "1f8e2c77-1960-419d-a902-9189ea6beb1c",
   "metadata": {},
   "outputs": [
    {
     "name": "stderr",
     "output_type": "stream",
     "text": [
      "                                                                                "
     ]
    }
   ],
   "source": [
    "merged_df.coalesce(1).write.parquet(\"data/final/merged_2024_01.parquet\", mode=\"overwrite\")"
   ]
  },
  {
   "cell_type": "code",
   "execution_count": null,
   "id": "1333232a-8905-4806-9974-f30ae849dffa",
   "metadata": {},
   "outputs": [],
   "source": []
  },
  {
   "cell_type": "code",
   "execution_count": null,
   "id": "945e7e97-0d0c-4cd5-9b3f-51ef0a29793a",
   "metadata": {},
   "outputs": [],
   "source": []
  },
  {
   "cell_type": "code",
   "execution_count": null,
   "id": "4bcd3ebb-ce6f-4a8f-8445-5ac5d9161a8d",
   "metadata": {},
   "outputs": [],
   "source": []
  }
 ],
 "metadata": {
  "kernelspec": {
   "display_name": "Python 3 (ipykernel)",
   "language": "python",
   "name": "python3"
  },
  "language_info": {
   "codemirror_mode": {
    "name": "ipython",
    "version": 3
   },
   "file_extension": ".py",
   "mimetype": "text/x-python",
   "name": "python",
   "nbconvert_exporter": "python",
   "pygments_lexer": "ipython3",
   "version": "3.9.2"
  }
 },
 "nbformat": 4,
 "nbformat_minor": 5
}
